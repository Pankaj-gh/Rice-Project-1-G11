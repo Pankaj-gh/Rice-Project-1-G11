{
 "cells": [
  {
   "cell_type": "code",
   "execution_count": 1,
   "metadata": {},
   "outputs": [],
   "source": [
    "import os\n",
    "import pandas as pd\n",
    "import seaborn as sns\n",
    "import matplotlib.pyplot as plt\n",
    "import numpy as np\n",
    "from scipy.stats import linregress\n",
    "\n",
    "# Import all exported files from main script to prevent project conflicts\n",
    "file_path = os.path.join(\"Resources\",\"Population+Drive+Median_Income_by_Zip.csv\")\n",
    "income_df=pd.read_csv(file_path)\n",
    "file_path= os.path.join(\"Resources\",\"ktop100latlng.csv\")\n",
    "latlng_df=pd.read_csv(file_path)\n",
    "file_path =os.path.join('Resources','ZIP-COUNTY-FIPS_2018-03.csv')\n",
    "df_fp=pd.read_csv(file_path)\n",
    "file_path =os.path.join('Resources','Florida_Cases_Zips_COVID19.csv')\n",
    "florida=pd.read_csv(file_path)"
   ]
  },
  {
   "cell_type": "code",
   "execution_count": 2,
   "metadata": {},
   "outputs": [
    {
     "data": {
      "text/html": [
       "<div>\n",
       "<style scoped>\n",
       "    .dataframe tbody tr th:only-of-type {\n",
       "        vertical-align: middle;\n",
       "    }\n",
       "\n",
       "    .dataframe tbody tr th {\n",
       "        vertical-align: top;\n",
       "    }\n",
       "\n",
       "    .dataframe thead th {\n",
       "        text-align: right;\n",
       "    }\n",
       "</style>\n",
       "<table border=\"1\" class=\"dataframe\">\n",
       "  <thead>\n",
       "    <tr style=\"text-align: right;\">\n",
       "      <th></th>\n",
       "      <th>date</th>\n",
       "      <th>county</th>\n",
       "      <th>state</th>\n",
       "      <th>fips</th>\n",
       "      <th>cases_x</th>\n",
       "      <th>deaths</th>\n",
       "      <th>cases_y</th>\n",
       "      <th>rate</th>\n",
       "      <th>Population</th>\n",
       "      <th>Latitude</th>\n",
       "      <th>Longitude</th>\n",
       "    </tr>\n",
       "  </thead>\n",
       "  <tbody>\n",
       "    <tr>\n",
       "      <th>0</th>\n",
       "      <td>9/8/2020</td>\n",
       "      <td>Tehama</td>\n",
       "      <td>California</td>\n",
       "      <td>6103.0</td>\n",
       "      <td>453</td>\n",
       "      <td>1</td>\n",
       "      <td>4</td>\n",
       "      <td>112.250000</td>\n",
       "      <td>144905</td>\n",
       "      <td>40.027102</td>\n",
       "      <td>-122.123323</td>\n",
       "    </tr>\n",
       "    <tr>\n",
       "      <th>1</th>\n",
       "      <td>9/8/2020</td>\n",
       "      <td>Bingham</td>\n",
       "      <td>Idaho</td>\n",
       "      <td>16011.0</td>\n",
       "      <td>676</td>\n",
       "      <td>9</td>\n",
       "      <td>7</td>\n",
       "      <td>95.571429</td>\n",
       "      <td>121264</td>\n",
       "      <td>43.211230</td>\n",
       "      <td>-112.362415</td>\n",
       "    </tr>\n",
       "    <tr>\n",
       "      <th>2</th>\n",
       "      <td>9/8/2020</td>\n",
       "      <td>Stone</td>\n",
       "      <td>Missouri</td>\n",
       "      <td>29209.0</td>\n",
       "      <td>316</td>\n",
       "      <td>2</td>\n",
       "      <td>4</td>\n",
       "      <td>78.000000</td>\n",
       "      <td>121684</td>\n",
       "      <td>36.774888</td>\n",
       "      <td>-93.459933</td>\n",
       "    </tr>\n",
       "    <tr>\n",
       "      <th>3</th>\n",
       "      <td>9/8/2020</td>\n",
       "      <td>Sebastian</td>\n",
       "      <td>Arkansas</td>\n",
       "      <td>5131.0</td>\n",
       "      <td>3042</td>\n",
       "      <td>38</td>\n",
       "      <td>40</td>\n",
       "      <td>75.050000</td>\n",
       "      <td>142299</td>\n",
       "      <td>35.226040</td>\n",
       "      <td>-94.315422</td>\n",
       "    </tr>\n",
       "    <tr>\n",
       "      <th>4</th>\n",
       "      <td>9/8/2020</td>\n",
       "      <td>Portage</td>\n",
       "      <td>Wisconsin</td>\n",
       "      <td>55097.0</td>\n",
       "      <td>798</td>\n",
       "      <td>2</td>\n",
       "      <td>11</td>\n",
       "      <td>71.545455</td>\n",
       "      <td>143879</td>\n",
       "      <td>43.539149</td>\n",
       "      <td>-89.462620</td>\n",
       "    </tr>\n",
       "  </tbody>\n",
       "</table>\n",
       "</div>"
      ],
      "text/plain": [
       "       date     county       state     fips  cases_x  deaths  cases_y  \\\n",
       "0  9/8/2020     Tehama  California   6103.0      453       1        4   \n",
       "1  9/8/2020    Bingham       Idaho  16011.0      676       9        7   \n",
       "2  9/8/2020      Stone    Missouri  29209.0      316       2        4   \n",
       "3  9/8/2020  Sebastian    Arkansas   5131.0     3042      38       40   \n",
       "4  9/8/2020    Portage   Wisconsin  55097.0      798       2       11   \n",
       "\n",
       "         rate  Population   Latitude   Longitude  \n",
       "0  112.250000      144905  40.027102 -122.123323  \n",
       "1   95.571429      121264  43.211230 -112.362415  \n",
       "2   78.000000      121684  36.774888  -93.459933  \n",
       "3   75.050000      142299  35.226040  -94.315422  \n",
       "4   71.545455      143879  43.539149  -89.462620  "
      ]
     },
     "execution_count": 2,
     "metadata": {},
     "output_type": "execute_result"
    }
   ],
   "source": [
    "latlng_df.head()"
   ]
  },
  {
   "cell_type": "code",
   "execution_count": 3,
   "metadata": {},
   "outputs": [
    {
     "data": {
      "text/html": [
       "<div>\n",
       "<style scoped>\n",
       "    .dataframe tbody tr th:only-of-type {\n",
       "        vertical-align: middle;\n",
       "    }\n",
       "\n",
       "    .dataframe tbody tr th {\n",
       "        vertical-align: top;\n",
       "    }\n",
       "\n",
       "    .dataframe thead th {\n",
       "        text-align: right;\n",
       "    }\n",
       "</style>\n",
       "<table border=\"1\" class=\"dataframe\">\n",
       "  <thead>\n",
       "    <tr style=\"text-align: right;\">\n",
       "      <th></th>\n",
       "      <th>ZIP</th>\n",
       "      <th>STCOUNTYFP</th>\n",
       "      <th>CITY</th>\n",
       "      <th>STATE</th>\n",
       "      <th>COUNTYNAME</th>\n",
       "      <th>CLASSFP</th>\n",
       "    </tr>\n",
       "  </thead>\n",
       "  <tbody>\n",
       "    <tr>\n",
       "      <th>0</th>\n",
       "      <td>36091</td>\n",
       "      <td>1001</td>\n",
       "      <td>Verbena</td>\n",
       "      <td>AL</td>\n",
       "      <td>Autauga County</td>\n",
       "      <td>H1</td>\n",
       "    </tr>\n",
       "    <tr>\n",
       "      <th>1</th>\n",
       "      <td>36758</td>\n",
       "      <td>1001</td>\n",
       "      <td>Plantersville</td>\n",
       "      <td>AL</td>\n",
       "      <td>Autauga County</td>\n",
       "      <td>H1</td>\n",
       "    </tr>\n",
       "    <tr>\n",
       "      <th>2</th>\n",
       "      <td>36006</td>\n",
       "      <td>1001</td>\n",
       "      <td>Billingsley</td>\n",
       "      <td>AL</td>\n",
       "      <td>Autauga County</td>\n",
       "      <td>H1</td>\n",
       "    </tr>\n",
       "    <tr>\n",
       "      <th>3</th>\n",
       "      <td>36067</td>\n",
       "      <td>1001</td>\n",
       "      <td>Prattville</td>\n",
       "      <td>AL</td>\n",
       "      <td>Autauga County</td>\n",
       "      <td>H1</td>\n",
       "    </tr>\n",
       "    <tr>\n",
       "      <th>4</th>\n",
       "      <td>36701</td>\n",
       "      <td>1001</td>\n",
       "      <td>Selma</td>\n",
       "      <td>AL</td>\n",
       "      <td>Autauga County</td>\n",
       "      <td>H1</td>\n",
       "    </tr>\n",
       "    <tr>\n",
       "      <th>...</th>\n",
       "      <td>...</td>\n",
       "      <td>...</td>\n",
       "      <td>...</td>\n",
       "      <td>...</td>\n",
       "      <td>...</td>\n",
       "      <td>...</td>\n",
       "    </tr>\n",
       "    <tr>\n",
       "      <th>95</th>\n",
       "      <td>36456</td>\n",
       "      <td>1013</td>\n",
       "      <td>Mc kenzie</td>\n",
       "      <td>AL</td>\n",
       "      <td>Butler County</td>\n",
       "      <td>H1</td>\n",
       "    </tr>\n",
       "    <tr>\n",
       "      <th>96</th>\n",
       "      <td>36030</td>\n",
       "      <td>1013</td>\n",
       "      <td>Forest home</td>\n",
       "      <td>AL</td>\n",
       "      <td>Butler County</td>\n",
       "      <td>H1</td>\n",
       "    </tr>\n",
       "    <tr>\n",
       "      <th>97</th>\n",
       "      <td>36032</td>\n",
       "      <td>1013</td>\n",
       "      <td>Fort deposit</td>\n",
       "      <td>AL</td>\n",
       "      <td>Butler County</td>\n",
       "      <td>H1</td>\n",
       "    </tr>\n",
       "    <tr>\n",
       "      <th>98</th>\n",
       "      <td>36037</td>\n",
       "      <td>1013</td>\n",
       "      <td>Greenville</td>\n",
       "      <td>AL</td>\n",
       "      <td>Butler County</td>\n",
       "      <td>H1</td>\n",
       "    </tr>\n",
       "    <tr>\n",
       "      <th>99</th>\n",
       "      <td>36205</td>\n",
       "      <td>1015</td>\n",
       "      <td>Anniston</td>\n",
       "      <td>AL</td>\n",
       "      <td>Calhoun County</td>\n",
       "      <td>H1</td>\n",
       "    </tr>\n",
       "  </tbody>\n",
       "</table>\n",
       "<p>100 rows × 6 columns</p>\n",
       "</div>"
      ],
      "text/plain": [
       "      ZIP  STCOUNTYFP           CITY STATE      COUNTYNAME CLASSFP\n",
       "0   36091        1001        Verbena    AL  Autauga County      H1\n",
       "1   36758        1001  Plantersville    AL  Autauga County      H1\n",
       "2   36006        1001    Billingsley    AL  Autauga County      H1\n",
       "3   36067        1001     Prattville    AL  Autauga County      H1\n",
       "4   36701        1001          Selma    AL  Autauga County      H1\n",
       "..    ...         ...            ...   ...             ...     ...\n",
       "95  36456        1013      Mc kenzie    AL   Butler County      H1\n",
       "96  36030        1013    Forest home    AL   Butler County      H1\n",
       "97  36032        1013   Fort deposit    AL   Butler County      H1\n",
       "98  36037        1013     Greenville    AL   Butler County      H1\n",
       "99  36205        1015       Anniston    AL  Calhoun County      H1\n",
       "\n",
       "[100 rows x 6 columns]"
      ]
     },
     "execution_count": 3,
     "metadata": {},
     "output_type": "execute_result"
    }
   ],
   "source": [
    "df_fp.head(100)"
   ]
  },
  {
   "cell_type": "code",
   "execution_count": 4,
   "metadata": {},
   "outputs": [
    {
     "data": {
      "text/plain": [
       "OBJECTID          int64\n",
       "ZIP               int64\n",
       "OBJECTID_1        int64\n",
       "DEPCODE           int64\n",
       "COUNTYNAME       object\n",
       "FieldMatch       object\n",
       "POName           object\n",
       "Places           object\n",
       "OBJECTID_12     float64\n",
       "ZIPX             object\n",
       "c_places         object\n",
       "Cases_1         float64\n",
       "LabelY            int64\n",
       "SHAPE_Length    float64\n",
       "SHAPE_Area      float64\n",
       "dtype: object"
      ]
     },
     "execution_count": 4,
     "metadata": {},
     "output_type": "execute_result"
    }
   ],
   "source": [
    "florida.head()\n",
    "florida.dtypes\n",
    "\n"
   ]
  },
  {
   "cell_type": "code",
   "execution_count": 5,
   "metadata": {},
   "outputs": [
    {
     "data": {
      "text/html": [
       "<div>\n",
       "<style scoped>\n",
       "    .dataframe tbody tr th:only-of-type {\n",
       "        vertical-align: middle;\n",
       "    }\n",
       "\n",
       "    .dataframe tbody tr th {\n",
       "        vertical-align: top;\n",
       "    }\n",
       "\n",
       "    .dataframe thead th {\n",
       "        text-align: right;\n",
       "    }\n",
       "</style>\n",
       "<table border=\"1\" class=\"dataframe\">\n",
       "  <thead>\n",
       "    <tr style=\"text-align: right;\">\n",
       "      <th></th>\n",
       "      <th>Name</th>\n",
       "      <th>Population</th>\n",
       "      <th>Population II</th>\n",
       "      <th>Male Population</th>\n",
       "      <th>Drive to Work - Solo Driver</th>\n",
       "      <th>Public Transportation</th>\n",
       "      <th>Work from Home</th>\n",
       "      <th>Median Income</th>\n",
       "      <th>Zipcode</th>\n",
       "    </tr>\n",
       "  </thead>\n",
       "  <tbody>\n",
       "    <tr>\n",
       "      <th>0</th>\n",
       "      <td>ZCTA5 43964</td>\n",
       "      <td>8642</td>\n",
       "      <td>NaN</td>\n",
       "      <td>NaN</td>\n",
       "      <td>3173.0</td>\n",
       "      <td>0.0</td>\n",
       "      <td>75.0</td>\n",
       "      <td>25320.0</td>\n",
       "      <td>43964</td>\n",
       "    </tr>\n",
       "    <tr>\n",
       "      <th>1</th>\n",
       "      <td>ZCTA5 28216</td>\n",
       "      <td>51116</td>\n",
       "      <td>NaN</td>\n",
       "      <td>NaN</td>\n",
       "      <td>20406.0</td>\n",
       "      <td>742.0</td>\n",
       "      <td>1499.0</td>\n",
       "      <td>30701.0</td>\n",
       "      <td>28216</td>\n",
       "    </tr>\n",
       "    <tr>\n",
       "      <th>2</th>\n",
       "      <td>ZCTA5 28277</td>\n",
       "      <td>71605</td>\n",
       "      <td>NaN</td>\n",
       "      <td>NaN</td>\n",
       "      <td>28558.0</td>\n",
       "      <td>326.0</td>\n",
       "      <td>4072.0</td>\n",
       "      <td>54326.0</td>\n",
       "      <td>28277</td>\n",
       "    </tr>\n",
       "    <tr>\n",
       "      <th>3</th>\n",
       "      <td>ZCTA5 28278</td>\n",
       "      <td>27286</td>\n",
       "      <td>NaN</td>\n",
       "      <td>NaN</td>\n",
       "      <td>11700.0</td>\n",
       "      <td>36.0</td>\n",
       "      <td>1282.0</td>\n",
       "      <td>40769.0</td>\n",
       "      <td>28278</td>\n",
       "    </tr>\n",
       "    <tr>\n",
       "      <th>4</th>\n",
       "      <td>ZCTA5 28303</td>\n",
       "      <td>29414</td>\n",
       "      <td>NaN</td>\n",
       "      <td>NaN</td>\n",
       "      <td>11272.0</td>\n",
       "      <td>131.0</td>\n",
       "      <td>512.0</td>\n",
       "      <td>26706.0</td>\n",
       "      <td>28303</td>\n",
       "    </tr>\n",
       "  </tbody>\n",
       "</table>\n",
       "</div>"
      ],
      "text/plain": [
       "          Name  Population  Population II  Male Population  \\\n",
       "0  ZCTA5 43964        8642            NaN              NaN   \n",
       "1  ZCTA5 28216       51116            NaN              NaN   \n",
       "2  ZCTA5 28277       71605            NaN              NaN   \n",
       "3  ZCTA5 28278       27286            NaN              NaN   \n",
       "4  ZCTA5 28303       29414            NaN              NaN   \n",
       "\n",
       "   Drive to Work - Solo Driver  Public Transportation  Work from Home  \\\n",
       "0                       3173.0                    0.0            75.0   \n",
       "1                      20406.0                  742.0          1499.0   \n",
       "2                      28558.0                  326.0          4072.0   \n",
       "3                      11700.0                   36.0          1282.0   \n",
       "4                      11272.0                  131.0           512.0   \n",
       "\n",
       "   Median Income  Zipcode  \n",
       "0        25320.0    43964  \n",
       "1        30701.0    28216  \n",
       "2        54326.0    28277  \n",
       "3        40769.0    28278  \n",
       "4        26706.0    28303  "
      ]
     },
     "execution_count": 5,
     "metadata": {},
     "output_type": "execute_result"
    }
   ],
   "source": [
    "income_df.head()"
   ]
  },
  {
   "cell_type": "code",
   "execution_count": 6,
   "metadata": {},
   "outputs": [],
   "source": [
    "data=income_df[['Population','Zipcode','Median Income']]"
   ]
  },
  {
   "cell_type": "code",
   "execution_count": 7,
   "metadata": {},
   "outputs": [],
   "source": [
    "income_data_df=data.rename({'Zipcode':'ZIP'},axis=1)"
   ]
  },
  {
   "cell_type": "code",
   "execution_count": 8,
   "metadata": {},
   "outputs": [
    {
     "data": {
      "text/html": [
       "<div>\n",
       "<style scoped>\n",
       "    .dataframe tbody tr th:only-of-type {\n",
       "        vertical-align: middle;\n",
       "    }\n",
       "\n",
       "    .dataframe tbody tr th {\n",
       "        vertical-align: top;\n",
       "    }\n",
       "\n",
       "    .dataframe thead th {\n",
       "        text-align: right;\n",
       "    }\n",
       "</style>\n",
       "<table border=\"1\" class=\"dataframe\">\n",
       "  <thead>\n",
       "    <tr style=\"text-align: right;\">\n",
       "      <th></th>\n",
       "      <th>Population</th>\n",
       "      <th>ZIP</th>\n",
       "      <th>Median Income</th>\n",
       "    </tr>\n",
       "  </thead>\n",
       "  <tbody>\n",
       "    <tr>\n",
       "      <th>0</th>\n",
       "      <td>8642</td>\n",
       "      <td>43964</td>\n",
       "      <td>25320.0</td>\n",
       "    </tr>\n",
       "    <tr>\n",
       "      <th>1</th>\n",
       "      <td>51116</td>\n",
       "      <td>28216</td>\n",
       "      <td>30701.0</td>\n",
       "    </tr>\n",
       "    <tr>\n",
       "      <th>2</th>\n",
       "      <td>71605</td>\n",
       "      <td>28277</td>\n",
       "      <td>54326.0</td>\n",
       "    </tr>\n",
       "    <tr>\n",
       "      <th>3</th>\n",
       "      <td>27286</td>\n",
       "      <td>28278</td>\n",
       "      <td>40769.0</td>\n",
       "    </tr>\n",
       "    <tr>\n",
       "      <th>4</th>\n",
       "      <td>29414</td>\n",
       "      <td>28303</td>\n",
       "      <td>26706.0</td>\n",
       "    </tr>\n",
       "    <tr>\n",
       "      <th>...</th>\n",
       "      <td>...</td>\n",
       "      <td>...</td>\n",
       "      <td>...</td>\n",
       "    </tr>\n",
       "    <tr>\n",
       "      <th>95</th>\n",
       "      <td>2309</td>\n",
       "      <td>29448</td>\n",
       "      <td>16799.0</td>\n",
       "    </tr>\n",
       "    <tr>\n",
       "      <th>96</th>\n",
       "      <td>38267</td>\n",
       "      <td>29466</td>\n",
       "      <td>49087.0</td>\n",
       "    </tr>\n",
       "    <tr>\n",
       "      <th>97</th>\n",
       "      <td>9242</td>\n",
       "      <td>29472</td>\n",
       "      <td>24089.0</td>\n",
       "    </tr>\n",
       "    <tr>\n",
       "      <th>98</th>\n",
       "      <td>22056</td>\n",
       "      <td>29488</td>\n",
       "      <td>21427.0</td>\n",
       "    </tr>\n",
       "    <tr>\n",
       "      <th>99</th>\n",
       "      <td>46516</td>\n",
       "      <td>29501</td>\n",
       "      <td>28142.0</td>\n",
       "    </tr>\n",
       "  </tbody>\n",
       "</table>\n",
       "<p>100 rows × 3 columns</p>\n",
       "</div>"
      ],
      "text/plain": [
       "    Population    ZIP  Median Income\n",
       "0         8642  43964        25320.0\n",
       "1        51116  28216        30701.0\n",
       "2        71605  28277        54326.0\n",
       "3        27286  28278        40769.0\n",
       "4        29414  28303        26706.0\n",
       "..         ...    ...            ...\n",
       "95        2309  29448        16799.0\n",
       "96       38267  29466        49087.0\n",
       "97        9242  29472        24089.0\n",
       "98       22056  29488        21427.0\n",
       "99       46516  29501        28142.0\n",
       "\n",
       "[100 rows x 3 columns]"
      ]
     },
     "execution_count": 8,
     "metadata": {},
     "output_type": "execute_result"
    }
   ],
   "source": [
    "income_data_df.head(100)"
   ]
  },
  {
   "cell_type": "code",
   "execution_count": 9,
   "metadata": {},
   "outputs": [],
   "source": [
    "# Merge Census and Florida State COVID data\n",
    "zip_income=pd.merge(income_data_df,florida,on='ZIP')"
   ]
  },
  {
   "cell_type": "code",
   "execution_count": 10,
   "metadata": {},
   "outputs": [
    {
     "name": "stderr",
     "output_type": "stream",
     "text": [
      "C:\\Users\\jddar\\anaconda3\\lib\\site-packages\\pandas\\core\\ops\\array_ops.py:253: FutureWarning: elementwise comparison failed; returning scalar instead, but in the future will perform elementwise comparison\n",
      "  res_values = method(rvalues)\n",
      "<ipython-input-10-b7029a301eaa>:8: SettingWithCopyWarning: \n",
      "A value is trying to be set on a copy of a slice from a DataFrame.\n",
      "Try using .loc[row_indexer,col_indexer] = value instead\n",
      "\n",
      "See the caveats in the documentation: https://pandas.pydata.org/pandas-docs/stable/user_guide/indexing.html#returning-a-view-versus-a-copy\n",
      "  zip_income_clean['Median Income'] = pd.to_numeric(zip_income_clean['Median Income'])\n"
     ]
    },
    {
     "data": {
      "text/plain": [
       "Population         int64\n",
       "ZIP                int64\n",
       "Median Income    float64\n",
       "OBJECTID           int64\n",
       "OBJECTID_1         int64\n",
       "DEPCODE            int64\n",
       "COUNTYNAME        object\n",
       "FieldMatch        object\n",
       "POName            object\n",
       "Places            object\n",
       "OBJECTID_12      float64\n",
       "ZIPX              object\n",
       "c_places          object\n",
       "Cases_1          float64\n",
       "LabelY             int64\n",
       "SHAPE_Length     float64\n",
       "SHAPE_Area       float64\n",
       "dtype: object"
      ]
     },
     "execution_count": 10,
     "metadata": {},
     "output_type": "execute_result"
    }
   ],
   "source": [
    "# Adding in step to adjust data after other subsequent code \n",
    "zip_income_data=zip_income\n",
    "zip_income_data.head(100)\n",
    "\n",
    "# drop negative median incomes and null values\n",
    "zip_income_drop_blank = zip_income_data[(zip_income_data['Median Income']!='')]\n",
    "zip_income_clean = zip_income_drop_blank[(zip_income_drop_blank['Median Income']>0)]\n",
    "zip_income_clean['Median Income'] = pd.to_numeric(zip_income_clean['Median Income'])\n",
    "zip_income_clean.head()\n",
    "zip_income_clean.dtypes"
   ]
  },
  {
   "cell_type": "code",
   "execution_count": 11,
   "metadata": {
    "jupyter": {
     "source_hidden": true
    }
   },
   "outputs": [
    {
     "name": "stderr",
     "output_type": "stream",
     "text": [
      "<ipython-input-11-33417e08b944>:2: SettingWithCopyWarning: \n",
      "A value is trying to be set on a copy of a slice from a DataFrame.\n",
      "Try using .loc[row_indexer,col_indexer] = value instead\n",
      "\n",
      "See the caveats in the documentation: https://pandas.pydata.org/pandas-docs/stable/user_guide/indexing.html#returning-a-view-versus-a-copy\n",
      "  zip_income_clean['rate']=(100000/zip_income_clean.Population)*zip_income_clean.Cases_1\n",
      "<ipython-input-11-33417e08b944>:3: SettingWithCopyWarning: \n",
      "A value is trying to be set on a copy of a slice from a DataFrame.\n",
      "Try using .loc[row_indexer,col_indexer] = value instead\n",
      "\n",
      "See the caveats in the documentation: https://pandas.pydata.org/pandas-docs/stable/user_guide/indexing.html#returning-a-view-versus-a-copy\n",
      "  zip_income_clean['rate']=zip_income_clean[(zip_income_clean['Median Income'].astype(float)>=0)]\n"
     ]
    },
    {
     "data": {
      "text/html": [
       "<div>\n",
       "<style scoped>\n",
       "    .dataframe tbody tr th:only-of-type {\n",
       "        vertical-align: middle;\n",
       "    }\n",
       "\n",
       "    .dataframe tbody tr th {\n",
       "        vertical-align: top;\n",
       "    }\n",
       "\n",
       "    .dataframe thead th {\n",
       "        text-align: right;\n",
       "    }\n",
       "</style>\n",
       "<table border=\"1\" class=\"dataframe\">\n",
       "  <thead>\n",
       "    <tr style=\"text-align: right;\">\n",
       "      <th></th>\n",
       "      <th>Population</th>\n",
       "      <th>ZIP</th>\n",
       "      <th>Median Income</th>\n",
       "      <th>OBJECTID</th>\n",
       "      <th>OBJECTID_1</th>\n",
       "      <th>DEPCODE</th>\n",
       "      <th>COUNTYNAME</th>\n",
       "      <th>FieldMatch</th>\n",
       "      <th>POName</th>\n",
       "      <th>Places</th>\n",
       "      <th>OBJECTID_12</th>\n",
       "      <th>ZIPX</th>\n",
       "      <th>c_places</th>\n",
       "      <th>Cases_1</th>\n",
       "      <th>LabelY</th>\n",
       "      <th>SHAPE_Length</th>\n",
       "      <th>SHAPE_Area</th>\n",
       "      <th>rate</th>\n",
       "    </tr>\n",
       "  </thead>\n",
       "  <tbody>\n",
       "    <tr>\n",
       "      <th>0</th>\n",
       "      <td>10433</td>\n",
       "      <td>32407</td>\n",
       "      <td>29184.0</td>\n",
       "      <td>203</td>\n",
       "      <td>438</td>\n",
       "      <td>3</td>\n",
       "      <td>Bay</td>\n",
       "      <td>Bay-32407</td>\n",
       "      <td>Panama City Beach</td>\n",
       "      <td>Panama City Beach, Upper Grand Lagoon</td>\n",
       "      <td>31.0</td>\n",
       "      <td>Bay-32407</td>\n",
       "      <td>Panama City, Panama City Beach</td>\n",
       "      <td>353.0</td>\n",
       "      <td>353</td>\n",
       "      <td>0.714102</td>\n",
       "      <td>0.005079</td>\n",
       "      <td>10433</td>\n",
       "    </tr>\n",
       "    <tr>\n",
       "      <th>1</th>\n",
       "      <td>13480</td>\n",
       "      <td>32425</td>\n",
       "      <td>22190.0</td>\n",
       "      <td>212</td>\n",
       "      <td>458</td>\n",
       "      <td>30</td>\n",
       "      <td>Holmes</td>\n",
       "      <td>Holmes-32425</td>\n",
       "      <td>Bonifay</td>\n",
       "      <td>Caryville, Esto, Noma, Bonifay</td>\n",
       "      <td>476.0</td>\n",
       "      <td>Holmes-32425</td>\n",
       "      <td>Bonifay, Caryville</td>\n",
       "      <td>580.0</td>\n",
       "      <td>580</td>\n",
       "      <td>1.206376</td>\n",
       "      <td>0.057953</td>\n",
       "      <td>13480</td>\n",
       "    </tr>\n",
       "    <tr>\n",
       "      <th>2</th>\n",
       "      <td>13480</td>\n",
       "      <td>32425</td>\n",
       "      <td>22190.0</td>\n",
       "      <td>213</td>\n",
       "      <td>460</td>\n",
       "      <td>67</td>\n",
       "      <td>Washington</td>\n",
       "      <td>Washington-32425</td>\n",
       "      <td>Bonifay</td>\n",
       "      <td>Caryville, Bonifay</td>\n",
       "      <td>1113.0</td>\n",
       "      <td>Washington-32425</td>\n",
       "      <td>Bonifay</td>\n",
       "      <td>6.0</td>\n",
       "      <td>6</td>\n",
       "      <td>0.813919</td>\n",
       "      <td>0.009545</td>\n",
       "      <td>13480</td>\n",
       "    </tr>\n",
       "    <tr>\n",
       "      <th>3</th>\n",
       "      <td>926</td>\n",
       "      <td>32427</td>\n",
       "      <td>13150.0</td>\n",
       "      <td>215</td>\n",
       "      <td>465</td>\n",
       "      <td>67</td>\n",
       "      <td>Washington</td>\n",
       "      <td>Washington-32427</td>\n",
       "      <td>Caryville</td>\n",
       "      <td>Caryville, Westville</td>\n",
       "      <td>1114.0</td>\n",
       "      <td>Washington-32427</td>\n",
       "      <td>Caryville</td>\n",
       "      <td>52.0</td>\n",
       "      <td>52</td>\n",
       "      <td>0.801515</td>\n",
       "      <td>0.012944</td>\n",
       "      <td>926</td>\n",
       "    </tr>\n",
       "    <tr>\n",
       "      <th>4</th>\n",
       "      <td>3975</td>\n",
       "      <td>32431</td>\n",
       "      <td>23324.0</td>\n",
       "      <td>219</td>\n",
       "      <td>471</td>\n",
       "      <td>32</td>\n",
       "      <td>Jackson</td>\n",
       "      <td>Jackson-32431</td>\n",
       "      <td>Cottondale</td>\n",
       "      <td>Cottondale, Alford, Jacob City</td>\n",
       "      <td>494.0</td>\n",
       "      <td>Jackson-32431</td>\n",
       "      <td>Cottondale</td>\n",
       "      <td>184.0</td>\n",
       "      <td>184</td>\n",
       "      <td>1.015762</td>\n",
       "      <td>0.021373</td>\n",
       "      <td>3975</td>\n",
       "    </tr>\n",
       "  </tbody>\n",
       "</table>\n",
       "</div>"
      ],
      "text/plain": [
       "   Population    ZIP  Median Income  OBJECTID  OBJECTID_1  DEPCODE  \\\n",
       "0       10433  32407        29184.0       203         438        3   \n",
       "1       13480  32425        22190.0       212         458       30   \n",
       "2       13480  32425        22190.0       213         460       67   \n",
       "3         926  32427        13150.0       215         465       67   \n",
       "4        3975  32431        23324.0       219         471       32   \n",
       "\n",
       "   COUNTYNAME        FieldMatch             POName  \\\n",
       "0         Bay         Bay-32407  Panama City Beach   \n",
       "1      Holmes      Holmes-32425            Bonifay   \n",
       "2  Washington  Washington-32425            Bonifay   \n",
       "3  Washington  Washington-32427          Caryville   \n",
       "4     Jackson     Jackson-32431         Cottondale   \n",
       "\n",
       "                                  Places  OBJECTID_12              ZIPX  \\\n",
       "0  Panama City Beach, Upper Grand Lagoon         31.0         Bay-32407   \n",
       "1         Caryville, Esto, Noma, Bonifay        476.0      Holmes-32425   \n",
       "2                     Caryville, Bonifay       1113.0  Washington-32425   \n",
       "3                   Caryville, Westville       1114.0  Washington-32427   \n",
       "4         Cottondale, Alford, Jacob City        494.0     Jackson-32431   \n",
       "\n",
       "                         c_places  Cases_1  LabelY  SHAPE_Length  SHAPE_Area  \\\n",
       "0  Panama City, Panama City Beach    353.0     353      0.714102    0.005079   \n",
       "1              Bonifay, Caryville    580.0     580      1.206376    0.057953   \n",
       "2                         Bonifay      6.0       6      0.813919    0.009545   \n",
       "3                       Caryville     52.0      52      0.801515    0.012944   \n",
       "4                      Cottondale    184.0     184      1.015762    0.021373   \n",
       "\n",
       "    rate  \n",
       "0  10433  \n",
       "1  13480  \n",
       "2  13480  \n",
       "3    926  \n",
       "4   3975  "
      ]
     },
     "execution_count": 11,
     "metadata": {},
     "output_type": "execute_result"
    }
   ],
   "source": [
    "# Calculate rate\n",
    "zip_income_clean['rate']=(100000/zip_income_clean.Population)*zip_income_clean.Cases_1\n",
    "zip_income_clean['rate']=zip_income_clean[(zip_income_clean['Median Income'].astype(float)>=0)]\n",
    "zip_income_clean.head()"
   ]
  },
  {
   "cell_type": "code",
   "execution_count": 12,
   "metadata": {},
   "outputs": [],
   "source": [
    "# Creation of equal bins on categorical Median Income data in $10K increments\n",
    "bins = [9999, 19999, 29999, 39999, 49999, 75000]\n",
    "\n",
    "# Create the names for the four bins\n",
    "group_names = [\"<$10K\", \"$10-20K\", \"$20-30K\", \"$30-40K\", \">$50\"]"
   ]
  },
  {
   "cell_type": "code",
   "execution_count": 13,
   "metadata": {},
   "outputs": [
    {
     "name": "stderr",
     "output_type": "stream",
     "text": [
      "<ipython-input-13-9ad3e4a71de1>:2: SettingWithCopyWarning: \n",
      "A value is trying to be set on a copy of a slice from a DataFrame.\n",
      "Try using .loc[row_indexer,col_indexer] = value instead\n",
      "\n",
      "See the caveats in the documentation: https://pandas.pydata.org/pandas-docs/stable/user_guide/indexing.html#returning-a-view-versus-a-copy\n",
      "  zip_income_clean[\"Median Income Summary\"] = pd.cut(zip_income_clean['Median Income'], bins, labels=group_names)\n"
     ]
    },
    {
     "data": {
      "text/plain": [
       "count        1063\n",
       "unique          5\n",
       "top       $10-20K\n",
       "freq          608\n",
       "Name: Median Income Summary, dtype: object"
      ]
     },
     "execution_count": 13,
     "metadata": {},
     "output_type": "execute_result"
    }
   ],
   "source": [
    "# Split data into bins of $10K\n",
    "zip_income_clean[\"Median Income Summary\"] = pd.cut(zip_income_clean['Median Income'], bins, labels=group_names)\n",
    "zip_income_clean.head()\n",
    "zip_income_clean.describe()\n",
    "zip_income_clean[\"Median Income Summary\"].describe()\n",
    "# zip_income_clean[\"Cases_1\"].sum()"
   ]
  },
  {
   "cell_type": "code",
   "execution_count": 14,
   "metadata": {},
   "outputs": [
    {
     "name": "stdout",
     "output_type": "stream",
     "text": [
      "The population variance using the NumPy module is 579302.3341727497\n",
      "The population standard deviation using the NumPy module is 761.1191327070616\n",
      "The population variance using the NumPy module is 579302.3341727497\n",
      "The population standard deviation using the NumPy module is 0.49510089678849417\n"
     ]
    }
   ],
   "source": [
    "# Print stats to check\n",
    "var_numpy = np.var(zip_income_clean[\"Cases_1\"])\n",
    "print(f\"The population variance using the NumPy module is {var_numpy}\")\n",
    "\n",
    "sd_numpy = np.std(zip_income_clean[\"Cases_1\"])\n",
    "print(f\"The population standard deviation using the NumPy module is {sd_numpy}\")\n",
    "\n",
    "ar_numpy = np.var(zip_income_clean[\"Median Income Summary\"]==\"$10-20K\")\n",
    "print(f\"The population variance using the NumPy module is {var_numpy}\")\n",
    "\n",
    "sd_numpy = np.std(zip_income_clean[\"Median Income Summary\"]==\"$10-20K\")\n",
    "print(f\"The population standard deviation using the NumPy module is {sd_numpy}\")"
   ]
  },
  {
   "cell_type": "code",
   "execution_count": 15,
   "metadata": {},
   "outputs": [
    {
     "data": {
      "image/png": "[encoded data removed]",
      "text/plain": [
       "<Figure size 432x288 with 1 Axes>"
      ]
     },
     "metadata": {},
     "output_type": "display_data"
    }
   ],
   "source": [
    "# Create ending date of COVID cases plot $10K\n",
    "plt.style.use('dark_background')\n",
    "\n",
    "g = sns.boxplot(x = 'Median Income Summary',y='Cases_1',data = zip_income_clean, palette=\"winter\", showfliers=False, labels='0', color='001')\n",
    "sns.swarmplot(x='Median Income Summary', y='Cases_1', data=zip_income_clean, color=\"001\", size=1)\n",
    "plt.xlabel('Median Income', color='001')\n",
    "plt.ylabel('Count of Cases', color='001')\n",
    "sns.set_style('ticks', {'axes.edgecolor': '001',  \n",
    "                        'xtick.color': '001',\n",
    "                        'ytick.color': '001'})\n",
    "\n",
    "\n",
    "plt.style.use('dark_background')\n",
    "plt.title('Florida Median Income by Total Cases September 8, 2020', color='001')\n",
    "output_path = os.path.join(\"Images\", \"MIX.png\")\n",
    "plt.savefig(output_path, transparent=True)\n",
    "plt.show()\n",
    "\n",
    " \n"
   ]
  },
  {
   "cell_type": "code",
   "execution_count": 16,
   "metadata": {},
   "outputs": [
    {
     "data": {
      "image/png": "[encoded data removed]",
      "text/plain": [
       "<Figure size 432x288 with 1 Axes>"
      ]
     },
     "metadata": {},
     "output_type": "display_data"
    }
   ],
   "source": [
    "# Create ending date of COVID Rate plot $10K\n",
    "plt.style.use('dark_background')\n",
    "sns.boxplot(x = 'Median Income Summary',y='rate',data = zip_income_clean, palette=\"winter\", showfliers=False)\n",
    "sns.swarmplot(x='Median Income Summary', y='rate', data=zip_income_clean, color=\"001\", size=1)\n",
    "\n",
    "plt.xlabel('Median Income')\n",
    "plt.ylabel('Rate (1/100,000 pop.)')\n",
    "\n",
    "plt.title('Median Income by Rate')\n",
    "output_path = os.path.join(\"Images\", \"MIR.png\")\n",
    "plt.savefig(output_path, transparent=True)\n",
    "plt.show()"
   ]
  },
  {
   "cell_type": "code",
   "execution_count": 17,
   "metadata": {},
   "outputs": [],
   "source": [
    "# groupby_df= income_latlong.groupby('Median Income Summary')\n",
    "# gb_sum = groupby_df.sum()\n",
    "# gb_count = groupby_df.count()\n",
    "# gb_income = gb_sum / gb_count\n",
    "# gb_income.head(100)"
   ]
  },
  {
   "cell_type": "code",
   "execution_count": 18,
   "metadata": {},
   "outputs": [
    {
     "data": {
      "text/html": [
       "<div>\n",
       "<style scoped>\n",
       "    .dataframe tbody tr th:only-of-type {\n",
       "        vertical-align: middle;\n",
       "    }\n",
       "\n",
       "    .dataframe tbody tr th {\n",
       "        vertical-align: top;\n",
       "    }\n",
       "\n",
       "    .dataframe thead th {\n",
       "        text-align: right;\n",
       "    }\n",
       "</style>\n",
       "<table border=\"1\" class=\"dataframe\">\n",
       "  <thead>\n",
       "    <tr style=\"text-align: right;\">\n",
       "      <th></th>\n",
       "      <th>date</th>\n",
       "      <th>county</th>\n",
       "      <th>state</th>\n",
       "      <th>fips</th>\n",
       "      <th>cases</th>\n",
       "      <th>deaths</th>\n",
       "    </tr>\n",
       "  </thead>\n",
       "  <tbody>\n",
       "    <tr>\n",
       "      <th>0</th>\n",
       "      <td>2020-01-21</td>\n",
       "      <td>Snohomish</td>\n",
       "      <td>Washington</td>\n",
       "      <td>53061.0</td>\n",
       "      <td>1</td>\n",
       "      <td>0</td>\n",
       "    </tr>\n",
       "    <tr>\n",
       "      <th>1</th>\n",
       "      <td>2020-01-22</td>\n",
       "      <td>Snohomish</td>\n",
       "      <td>Washington</td>\n",
       "      <td>53061.0</td>\n",
       "      <td>1</td>\n",
       "      <td>0</td>\n",
       "    </tr>\n",
       "    <tr>\n",
       "      <th>2</th>\n",
       "      <td>2020-01-23</td>\n",
       "      <td>Snohomish</td>\n",
       "      <td>Washington</td>\n",
       "      <td>53061.0</td>\n",
       "      <td>1</td>\n",
       "      <td>0</td>\n",
       "    </tr>\n",
       "    <tr>\n",
       "      <th>3</th>\n",
       "      <td>2020-01-24</td>\n",
       "      <td>Cook</td>\n",
       "      <td>Illinois</td>\n",
       "      <td>17031.0</td>\n",
       "      <td>1</td>\n",
       "      <td>0</td>\n",
       "    </tr>\n",
       "    <tr>\n",
       "      <th>4</th>\n",
       "      <td>2020-01-24</td>\n",
       "      <td>Snohomish</td>\n",
       "      <td>Washington</td>\n",
       "      <td>53061.0</td>\n",
       "      <td>1</td>\n",
       "      <td>0</td>\n",
       "    </tr>\n",
       "  </tbody>\n",
       "</table>\n",
       "</div>"
      ],
      "text/plain": [
       "         date     county       state     fips  cases  deaths\n",
       "0  2020-01-21  Snohomish  Washington  53061.0      1       0\n",
       "1  2020-01-22  Snohomish  Washington  53061.0      1       0\n",
       "2  2020-01-23  Snohomish  Washington  53061.0      1       0\n",
       "3  2020-01-24       Cook    Illinois  17031.0      1       0\n",
       "4  2020-01-24  Snohomish  Washington  53061.0      1       0"
      ]
     },
     "execution_count": 18,
     "metadata": {},
     "output_type": "execute_result"
    }
   ],
   "source": [
    "# bar chart for reporting over time\n",
    "file_path = os.path.join(\"Resources\",\"us-counties1.csv\")\n",
    "rate_data=pd.read_csv(file_path)\n",
    "rate_data.head()\n"
   ]
  },
  {
   "cell_type": "code",
   "execution_count": 19,
   "metadata": {},
   "outputs": [
    {
     "data": {
      "text/html": [
       "<div>\n",
       "<style scoped>\n",
       "    .dataframe tbody tr th:only-of-type {\n",
       "        vertical-align: middle;\n",
       "    }\n",
       "\n",
       "    .dataframe tbody tr th {\n",
       "        vertical-align: top;\n",
       "    }\n",
       "\n",
       "    .dataframe thead th {\n",
       "        text-align: right;\n",
       "    }\n",
       "</style>\n",
       "<table border=\"1\" class=\"dataframe\">\n",
       "  <thead>\n",
       "    <tr style=\"text-align: right;\">\n",
       "      <th></th>\n",
       "      <th>Date</th>\n",
       "      <th>County_Count</th>\n",
       "    </tr>\n",
       "    <tr>\n",
       "      <th>date</th>\n",
       "      <th></th>\n",
       "      <th></th>\n",
       "    </tr>\n",
       "  </thead>\n",
       "  <tbody>\n",
       "    <tr>\n",
       "      <th>2020-01-21</th>\n",
       "      <td>2020-01-21</td>\n",
       "      <td>1</td>\n",
       "    </tr>\n",
       "    <tr>\n",
       "      <th>2020-01-22</th>\n",
       "      <td>2020-01-22</td>\n",
       "      <td>1</td>\n",
       "    </tr>\n",
       "    <tr>\n",
       "      <th>2020-01-23</th>\n",
       "      <td>2020-01-23</td>\n",
       "      <td>1</td>\n",
       "    </tr>\n",
       "    <tr>\n",
       "      <th>2020-01-24</th>\n",
       "      <td>2020-01-24</td>\n",
       "      <td>2</td>\n",
       "    </tr>\n",
       "    <tr>\n",
       "      <th>2020-01-25</th>\n",
       "      <td>2020-01-25</td>\n",
       "      <td>3</td>\n",
       "    </tr>\n",
       "  </tbody>\n",
       "</table>\n",
       "</div>"
      ],
      "text/plain": [
       "                  Date  County_Count\n",
       "date                                \n",
       "2020-01-21  2020-01-21             1\n",
       "2020-01-22  2020-01-22             1\n",
       "2020-01-23  2020-01-23             1\n",
       "2020-01-24  2020-01-24             2\n",
       "2020-01-25  2020-01-25             3"
      ]
     },
     "execution_count": 19,
     "metadata": {},
     "output_type": "execute_result"
    }
   ],
   "source": [
    "# Create DF for County Case Count\n",
    "county_count_date = rate_data.groupby(['date']).count()[['county']]\n",
    "county_count_date\n",
    "date = rate_data['date'].unique()\n",
    "date_county = pd.DataFrame({\"Date\" : date, \"County_Count\" : county_count_date['county']})\n",
    "date_county.head()\n"
   ]
  },
  {
   "cell_type": "code",
   "execution_count": null,
   "metadata": {},
   "outputs": [],
   "source": []
  },
  {
   "cell_type": "code",
   "execution_count": 20,
   "metadata": {},
   "outputs": [
    {
     "data": {
      "image/png": "[encoded data removed]",
      "text/plain": [
       "<Figure size 360x360 with 1 Axes>"
      ]
     },
     "metadata": {},
     "output_type": "display_data"
    }
   ],
   "source": [
    "# Create chart reporting over time for Dynata Data\n",
    "plt.style.use('dark_background')\n",
    "x_values = date_county['Date']\n",
    "y_values = date_county['County_Count']\n",
    "z_values = (date_county['County_Count']/3234).astype(float)\n",
    "\n",
    "plt.figure(figsize=(5,5))\n",
    "plt.scatter(x_values, y_values, s=3)\n",
    "\n",
    "\n",
    "# plt.xticks(np.arange(0, len(x_values), 77))\n",
    "plt.xticks(['2020-01-21','2020-05-31','2020-09-08'])\n",
    "plt.grid(False)\n",
    "\n",
    "plt.ylabel('Counties Reporting')\n",
    "plt.title('Reporting Counties over Time')\n",
    "output_path = os.path.join(\"Images\", \"county_count.png\")\n",
    "plt.savefig(output_path,  transparent=True)\n",
    "plt.show()"
   ]
  },
  {
   "cell_type": "code",
   "execution_count": 21,
   "metadata": {},
   "outputs": [
    {
     "name": "stdout",
     "output_type": "stream",
     "text": [
      "date\n",
      "2020-01-21    0.000309\n",
      "2020-01-22    0.000309\n",
      "2020-01-23    0.000309\n",
      "2020-01-24    0.000618\n",
      "2020-01-25    0.000928\n",
      "                ...   \n",
      "2020-09-04    1.000000\n",
      "2020-09-05    1.000000\n",
      "2020-09-06    0.999382\n",
      "2020-09-07    0.999691\n",
      "2020-09-08    0.999691\n",
      "Name: County_Count, Length: 232, dtype: float64\n"
     ]
    }
   ],
   "source": [
    "print(z_values)"
   ]
  },
  {
   "cell_type": "code",
   "execution_count": 22,
   "metadata": {},
   "outputs": [
    {
     "data": {
      "image/png": "[encoded data removed]",
      "text/plain": [
       "<Figure size 432x288 with 1 Axes>"
      ]
     },
     "metadata": {},
     "output_type": "display_data"
    }
   ],
   "source": [
    "# Create scatter chart for Florida Data of Rate\n",
    "x_values = zip_income_clean['Median Income']\n",
    "y_values = zip_income_clean['rate'].astype(float)\n",
    "\n",
    "# # Run the regression and store each of the returned values\n",
    "slope, intercept, rvalue, pvalue, stderr = linregress(x_values, y_values)\n",
    "\n",
    "# Calculate the predictions for each value of x (# Rooms)\n",
    "regression_values = x_values * slope + intercept\n",
    "\n",
    "# store a string version of the linear equation, so we can display it on the plot\n",
    "line_eq = \"y = \" + str(round(slope,2)) + \"x + \" + str(round(intercept,2))\n",
    "p_val = \"p-value \" + str(round(pvalue,2))\n",
    "r_val = \"r \" + str(round(rvalue,2))\n",
    "\n",
    "plt.style.use('dark_background')\n",
    "\n",
    "g = sns.scatterplot(x = 'Median Income',y='rate', data = zip_income_clean, palette=\"cool\")\n",
    "plt.xlabel('Median Income', color='001')\n",
    "plt.ylabel('Rate', color='001')\n",
    "plt.annotate(line_eq, (48000,72000), fontsize=10, color=\"white\")\n",
    "plt.annotate(p_val, (48000,65000), fontsize=10, color=\"white\")\n",
    "plt.annotate(r_val, (48000,58000), fontsize=10, color=\"white\")\n",
    "plt.plot(x_values, regression_values, linestyle=\"--\", color='white')\n",
    "\n",
    "\n",
    "plt.style.use('dark_background')\n",
    "plt.title('Florida Median Income by Total Cases September 8, 2020', color='001')\n",
    "output_path = os.path.join(\"Images\", \"scatter.png\")\n",
    "plt.savefig(output_path, transparent=True)\n",
    "plt.show()\n",
    "\n",
    " \n"
   ]
  },
  {
   "cell_type": "code",
   "execution_count": 23,
   "metadata": {},
   "outputs": [
    {
     "data": {
      "image/png": "[encoded data removed]",
      "text/plain": [
       "<Figure size 432x288 with 1 Axes>"
      ]
     },
     "metadata": {},
     "output_type": "display_data"
    }
   ],
   "source": [
    "# Create scatter chart for Florida Data of Rate flip axis\n",
    "y_values = zip_income_clean['Median Income']\n",
    "x_values = zip_income_clean['rate'].astype(float)\n",
    "\n",
    "# # Run the regression and store each of the returned values\n",
    "slope, intercept, rvalue, pvalue, stderr = linregress(x_values, y_values)\n",
    "\n",
    "# Calculate the predictions for each value of x (# Rooms)\n",
    "regression_values_2 = x_values * slope + intercept\n",
    "\n",
    "# store a string version of the linear equation, so we can display it on the plot\n",
    "line_eq = \"y = \" + str(round(slope,2)) + \"x + \" + str(round(intercept,2))\n",
    "p_val = \"p-value \" + str(round(pvalue,2))\n",
    "r_val = \"r \" + str(round(rvalue,2))\n",
    "\n",
    "plt.style.use('dark_background')\n",
    "\n",
    "g = sns.scatterplot(x = 'rate',y='Median Income', data = zip_income_clean, palette=\"cool\")\n",
    "plt.xlabel('Rate', color='001')\n",
    "plt.ylabel('Median Income', color='001')\n",
    "plt.annotate(line_eq, (53000,62000), fontsize=10, color=\"white\")\n",
    "plt.annotate(p_val, (53000,58000), fontsize=10, color=\"white\")\n",
    "plt.annotate(r_val, (53000,53000), fontsize=10, color=\"white\")\n",
    "plt.plot(x_values, regression_values_2, linestyle=\"--\", color='white')\n",
    "\n",
    "\n",
    "plt.style.use('dark_background')\n",
    "plt.title('Florida Median Income by Total Cases September 8, 2020', color='001')\n",
    "output_path = os.path.join(\"Images\", \"scatter_2.png\")\n",
    "plt.savefig(output_path, transparent=True)\n",
    "plt.show()\n"
   ]
  },
  {
   "cell_type": "code",
   "execution_count": 24,
   "metadata": {},
   "outputs": [],
   "source": [
    "# Create new bins\n",
    "bins_2 = [0,17499, 34999, 52499, 75000]\n",
    "\n",
    "# Create the names for the four bins\n",
    "group_names_2 = [\"<17.5\",\"$17.5K-$35K\", \"$35-52.5K\", \"$52.5-75K\"]"
   ]
  },
  {
   "cell_type": "code",
   "execution_count": 25,
   "metadata": {},
   "outputs": [
    {
     "name": "stderr",
     "output_type": "stream",
     "text": [
      "<ipython-input-25-e821ff2a2bf5>:2: SettingWithCopyWarning: \n",
      "A value is trying to be set on a copy of a slice from a DataFrame.\n",
      "Try using .loc[row_indexer,col_indexer] = value instead\n",
      "\n",
      "See the caveats in the documentation: https://pandas.pydata.org/pandas-docs/stable/user_guide/indexing.html#returning-a-view-versus-a-copy\n",
      "  zip_income_clean[\"Median Income Summary_2\"] = pd.cut(zip_income_clean['Median Income'], bins_2, labels=group_names_2)\n"
     ]
    },
    {
     "data": {
      "text/plain": [
       "count            1067\n",
       "unique              4\n",
       "top       $17.5K-$35K\n",
       "freq              836\n",
       "Name: Median Income Summary_2, dtype: object"
      ]
     },
     "execution_count": 25,
     "metadata": {},
     "output_type": "execute_result"
    }
   ],
   "source": [
    "# Split data in bins\n",
    "zip_income_clean[\"Median Income Summary_2\"] = pd.cut(zip_income_clean['Median Income'], bins_2, labels=group_names_2)\n",
    "zip_income_clean.head()\n",
    "zip_income_clean.describe()\n",
    "zip_income_clean[\"Median Income Summary_2\"].describe()\n",
    "# zip_income_clean[\"Cases_1\"].sum()"
   ]
  },
  {
   "cell_type": "code",
   "execution_count": 26,
   "metadata": {},
   "outputs": [
    {
     "data": {
      "image/png": "[encoded data removed]",
      "text/plain": [
       "<Figure size 432x288 with 1 Axes>"
      ]
     },
     "metadata": {},
     "output_type": "display_data"
    }
   ],
   "source": [
    "# Plot bins for cases\n",
    "plt.style.use('dark_background')\n",
    "\n",
    "g = sns.boxplot(x = 'Median Income Summary_2',y='Cases_1',data = zip_income_clean, palette=\"winter\", showfliers=False, labels='0', color='001')\n",
    "sns.swarmplot(x='Median Income Summary_2', y='Cases_1', data=zip_income_clean, color=\"001\", size=1)\n",
    "plt.xlabel('Median Income', color='001')\n",
    "plt.ylabel('Count of Cases', color='001')\n",
    "sns.set_style('ticks', {'axes.edgecolor': '001',  \n",
    "                        'xtick.color': '001',\n",
    "                        'ytick.color': '001'})\n",
    "\n",
    "plt.style.use('dark_background')\n",
    "plt.title('Florida Median Income by Total Cases September 8, 2020', color='001')\n",
    "output_path = os.path.join(\"Images\", \"MIX2.png\")\n",
    "plt.savefig(output_path, transparent=True)\n",
    "plt.show()"
   ]
  },
  {
   "cell_type": "code",
   "execution_count": 27,
   "metadata": {},
   "outputs": [
    {
     "data": {
      "text/plain": [
       "0.25    23066.0\n",
       "0.50    26658.0\n",
       "0.75    32176.5\n",
       "1.00    65625.0\n",
       "Name: Median Income, dtype: float64"
      ]
     },
     "execution_count": 27,
     "metadata": {},
     "output_type": "execute_result"
    }
   ],
   "source": [
    "# Calculate quartile data\n",
    "quantiles = zip_income_clean['Median Income'].quantile([.25,.5,.75,1])\n",
    "quantiles"
   ]
  },
  {
   "cell_type": "code",
   "execution_count": 28,
   "metadata": {},
   "outputs": [
    {
     "name": "stderr",
     "output_type": "stream",
     "text": [
      "<ipython-input-28-f030da25351b>:7: SettingWithCopyWarning: \n",
      "A value is trying to be set on a copy of a slice from a DataFrame.\n",
      "Try using .loc[row_indexer,col_indexer] = value instead\n",
      "\n",
      "See the caveats in the documentation: https://pandas.pydata.org/pandas-docs/stable/user_guide/indexing.html#returning-a-view-versus-a-copy\n",
      "  zip_income_clean[\"Median Income Summary_3\"] = pd.cut(zip_income_clean['Median Income'], bins_3, labels=group_names_3)\n"
     ]
    },
    {
     "data": {
      "text/plain": [
       "count        1067\n",
       "unique          4\n",
       "top       >$32.2K\n",
       "freq          267\n",
       "Name: Median Income Summary_3, dtype: object"
      ]
     },
     "execution_count": 28,
     "metadata": {},
     "output_type": "execute_result"
    }
   ],
   "source": [
    "# Create bins according to quartile data distribution on Income data\n",
    "bins_3 = [0, 23066, 26658, 32176, 65625]\n",
    "\n",
    "# Create the names for the four bins\n",
    "group_names_3 = [\"<23K Q1\",\"$23-26.6K Q2\", \"$26.6-32.2K Q3\", \">$32.2K\"]\n",
    "\n",
    "zip_income_clean[\"Median Income Summary_3\"] = pd.cut(zip_income_clean['Median Income'], bins_3, labels=group_names_3)\n",
    "zip_income_clean.head()\n",
    "zip_income_clean.describe()\n",
    "zip_income_clean[\"Median Income Summary_3\"].describe()\n",
    "# zip_income_clean[\"Cases_1\"].sum()"
   ]
  },
  {
   "cell_type": "code",
   "execution_count": 29,
   "metadata": {},
   "outputs": [
    {
     "data": {
      "image/png": "[encoded data removed]",
      "text/plain": [
       "<Figure size 432x288 with 1 Axes>"
      ]
     },
     "metadata": {},
     "output_type": "display_data"
    }
   ],
   "source": [
    "# Plot case data on new bins\n",
    "plt.style.use('dark_background')\n",
    "\n",
    "g = sns.boxplot(x = 'Median Income Summary_3',y='Cases_1',data = zip_income_clean, palette=\"winter\", showfliers=False, labels='0', color='001')\n",
    "sns.swarmplot(x='Median Income Summary_3', y='Cases_1', data=zip_income_clean, color=\"001\", size=1)\n",
    "plt.xlabel('Median Income', color='001')\n",
    "plt.ylabel('Count of Cases', color='001')\n",
    "sns.set_style('ticks', {'axes.edgecolor': '001',  \n",
    "                        'xtick.color': '001',\n",
    "                        'ytick.color': '001'})\n",
    "\n",
    "plt.style.use('dark_background')\n",
    "plt.title('Florida Median Income by Total Cases September 8, 2020', color='001')\n",
    "output_path = os.path.join(\"Images\", \"MIX3.png\")\n",
    "plt.savefig(output_path, transparent=True)\n",
    "plt.show()"
   ]
  },
  {
   "cell_type": "code",
   "execution_count": 30,
   "metadata": {},
   "outputs": [
    {
     "data": {
      "image/png": "[encoded data removed]",
      "text/plain": [
       "<Figure size 432x288 with 1 Axes>"
      ]
     },
     "metadata": {},
     "output_type": "display_data"
    }
   ],
   "source": [
    "# Plot income and rate by appropriate data quartile distribution\n",
    "plt.style.use('dark_background')\n",
    "sns.boxplot(x = 'Median Income Summary_3',y='rate',data = zip_income_clean, palette=\"winter\", showfliers=False)\n",
    "sns.swarmplot(x='Median Income Summary_3', y='rate', data=zip_income_clean, color=\"001\", size=1)\n",
    "\n",
    "plt.xlabel('Median Income')\n",
    "plt.ylabel('Rate (1/100,000 pop.)')\n",
    "\n",
    "plt.title('Median Income by Rate')\n",
    "output_path = os.path.join(\"Images\", \"MIR2.png\")\n",
    "plt.savefig(output_path, transparent=True)\n",
    "plt.show()"
   ]
  }
 ],
 "metadata": {
  "kernelspec": {
   "display_name": "Python 3",
   "language": "python",
   "name": "python3"
  },
  "language_info": {
   "codemirror_mode": {
    "name": "ipython",
    "version": 3
   },
   "file_extension": ".py",
   "mimetype": "text/x-python",
   "name": "python",
   "nbconvert_exporter": "python",
   "pygments_lexer": "ipython3",
   "version": "3.8.3"
  }
 },
 "nbformat": 4,
 "nbformat_minor": 4
}
